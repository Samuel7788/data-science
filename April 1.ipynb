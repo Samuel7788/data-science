{
 "cells": [
  {
   "cell_type": "code",
   "execution_count": null,
   "id": "7dcf465d",
   "metadata": {},
   "outputs": [],
   "source": [
    "import re \n",
    "\n",
    "IP = input(\"What is your IP address?\")\n",
    "IP_pattern = r\"(\\d{1,3}).(\\d{1,3}).(\\d{1,3}).(\\d{1,3})\"\n",
    "\n",
    "matches = re.search(IP_pattern, IP)\n",
    "\n",
    "if matches:\n",
    "    print(\"First Part\", matches.group(1))\n",
    "    print(\"Second Part\", matches.group(2))\n",
    "    print(\"Third Part\", matches.group(3))\n",
    "    print(\"Fourth Part\", matches.group(4))\n",
    "    print(\"Valid IP Address\")\n",
    "else:\n",
    "    print(\"Invalid IP address\")\n",
    "\n"
   ]
  },
  {
   "cell_type": "code",
   "execution_count": null,
   "id": "e7fd42ff",
   "metadata": {},
   "outputs": [],
   "source": []
  }
 ],
 "metadata": {
  "kernelspec": {
   "display_name": "Python 3 (ipykernel)",
   "language": "python",
   "name": "python3"
  },
  "language_info": {
   "codemirror_mode": {
    "name": "ipython",
    "version": 3
   },
   "file_extension": ".py",
   "mimetype": "text/x-python",
   "name": "python",
   "nbconvert_exporter": "python",
   "pygments_lexer": "ipython3",
   "version": "3.9.12"
  }
 },
 "nbformat": 4,
 "nbformat_minor": 5
}
